{
  "nbformat": 4,
  "nbformat_minor": 0,
  "metadata": {
    "colab": {
      "name": "DLF-L2.ipynb",
      "provenance": [],
      "collapsed_sections": [],
      "authorship_tag": "ABX9TyNXMX28Pyb14qHPxLKqHJzX",
      "include_colab_link": true
    },
    "kernelspec": {
      "name": "python3",
      "display_name": "Python 3"
    }
  },
  "cells": [
    {
      "cell_type": "markdown",
      "metadata": {
        "id": "view-in-github",
        "colab_type": "text"
      },
      "source": [
        "<a href=\"https://colab.research.google.com/github/malraharsh/Trading-with-Deep-Learning/blob/L-2/DLF_L2.ipynb\" target=\"_parent\"><img src=\"https://colab.research.google.com/assets/colab-badge.svg\" alt=\"Open In Colab\"/></a>"
      ]
    },
    {
      "cell_type": "code",
      "metadata": {
        "id": "GHQFFyEBpokS",
        "colab_type": "code",
        "colab": {}
      },
      "source": [
        "# !git clone https://github.com/PacktPublishing/Hands-On-Deep-Learning-for-Finance.git"
      ],
      "execution_count": 0,
      "outputs": []
    },
    {
      "cell_type": "code",
      "metadata": {
        "id": "_jpbPoYKpxuF",
        "colab_type": "code",
        "colab": {}
      },
      "source": [
        "import tensorflow\n",
        "import tensorflow.keras\n",
        "from tensorflow.keras.models import Sequential, Model\n",
        "from tensorflow.keras.layers import Dense\n",
        "from tensorflow.keras.optimizers import Adam\n",
        "# from tensorflow.keras.\n",
        "\n",
        "import pandas as pd\n",
        "import numpy as np"
      ],
      "execution_count": 0,
      "outputs": []
    },
    {
      "cell_type": "code",
      "metadata": {
        "id": "HepHWbcopx2C",
        "colab_type": "code",
        "outputId": "6447ecec-dd8b-4471-b980-6f4a66f5b4f2",
        "colab": {
          "base_uri": "https://localhost:8080/",
          "height": 218
        }
      },
      "source": [
        "file = 'african_crises.csv'\n",
        "df = pd.read_csv(file)\n",
        "df.head()"
      ],
      "execution_count": 64,
      "outputs": [
        {
          "output_type": "execute_result",
          "data": {
            "text/html": [
              "<div>\n",
              "<style scoped>\n",
              "    .dataframe tbody tr th:only-of-type {\n",
              "        vertical-align: middle;\n",
              "    }\n",
              "\n",
              "    .dataframe tbody tr th {\n",
              "        vertical-align: top;\n",
              "    }\n",
              "\n",
              "    .dataframe thead th {\n",
              "        text-align: right;\n",
              "    }\n",
              "</style>\n",
              "<table border=\"1\" class=\"dataframe\">\n",
              "  <thead>\n",
              "    <tr style=\"text-align: right;\">\n",
              "      <th></th>\n",
              "      <th>case</th>\n",
              "      <th>cc3</th>\n",
              "      <th>country</th>\n",
              "      <th>year</th>\n",
              "      <th>systemic_crisis</th>\n",
              "      <th>exch_usd</th>\n",
              "      <th>domestic_debt_in_default</th>\n",
              "      <th>sovereign_external_debt_default</th>\n",
              "      <th>gdp_weighted_default</th>\n",
              "      <th>inflation_annual_cpi</th>\n",
              "      <th>independence</th>\n",
              "      <th>currency_crises</th>\n",
              "      <th>inflation_crises</th>\n",
              "      <th>banking_crisis</th>\n",
              "    </tr>\n",
              "  </thead>\n",
              "  <tbody>\n",
              "    <tr>\n",
              "      <th>0</th>\n",
              "      <td>1</td>\n",
              "      <td>DZA</td>\n",
              "      <td>Algeria</td>\n",
              "      <td>1870</td>\n",
              "      <td>1</td>\n",
              "      <td>0.052264</td>\n",
              "      <td>0</td>\n",
              "      <td>0</td>\n",
              "      <td>0.0</td>\n",
              "      <td>3.441456</td>\n",
              "      <td>0</td>\n",
              "      <td>0</td>\n",
              "      <td>0</td>\n",
              "      <td>crisis</td>\n",
              "    </tr>\n",
              "    <tr>\n",
              "      <th>1</th>\n",
              "      <td>1</td>\n",
              "      <td>DZA</td>\n",
              "      <td>Algeria</td>\n",
              "      <td>1871</td>\n",
              "      <td>0</td>\n",
              "      <td>0.052798</td>\n",
              "      <td>0</td>\n",
              "      <td>0</td>\n",
              "      <td>0.0</td>\n",
              "      <td>14.149140</td>\n",
              "      <td>0</td>\n",
              "      <td>0</td>\n",
              "      <td>0</td>\n",
              "      <td>no_crisis</td>\n",
              "    </tr>\n",
              "    <tr>\n",
              "      <th>2</th>\n",
              "      <td>1</td>\n",
              "      <td>DZA</td>\n",
              "      <td>Algeria</td>\n",
              "      <td>1872</td>\n",
              "      <td>0</td>\n",
              "      <td>0.052274</td>\n",
              "      <td>0</td>\n",
              "      <td>0</td>\n",
              "      <td>0.0</td>\n",
              "      <td>-3.718593</td>\n",
              "      <td>0</td>\n",
              "      <td>0</td>\n",
              "      <td>0</td>\n",
              "      <td>no_crisis</td>\n",
              "    </tr>\n",
              "    <tr>\n",
              "      <th>3</th>\n",
              "      <td>1</td>\n",
              "      <td>DZA</td>\n",
              "      <td>Algeria</td>\n",
              "      <td>1873</td>\n",
              "      <td>0</td>\n",
              "      <td>0.051680</td>\n",
              "      <td>0</td>\n",
              "      <td>0</td>\n",
              "      <td>0.0</td>\n",
              "      <td>11.203897</td>\n",
              "      <td>0</td>\n",
              "      <td>0</td>\n",
              "      <td>0</td>\n",
              "      <td>no_crisis</td>\n",
              "    </tr>\n",
              "    <tr>\n",
              "      <th>4</th>\n",
              "      <td>1</td>\n",
              "      <td>DZA</td>\n",
              "      <td>Algeria</td>\n",
              "      <td>1874</td>\n",
              "      <td>0</td>\n",
              "      <td>0.051308</td>\n",
              "      <td>0</td>\n",
              "      <td>0</td>\n",
              "      <td>0.0</td>\n",
              "      <td>-3.848561</td>\n",
              "      <td>0</td>\n",
              "      <td>0</td>\n",
              "      <td>0</td>\n",
              "      <td>no_crisis</td>\n",
              "    </tr>\n",
              "  </tbody>\n",
              "</table>\n",
              "</div>"
            ],
            "text/plain": [
              "   case  cc3  country  ...  currency_crises  inflation_crises  banking_crisis\n",
              "0     1  DZA  Algeria  ...                0                 0          crisis\n",
              "1     1  DZA  Algeria  ...                0                 0       no_crisis\n",
              "2     1  DZA  Algeria  ...                0                 0       no_crisis\n",
              "3     1  DZA  Algeria  ...                0                 0       no_crisis\n",
              "4     1  DZA  Algeria  ...                0                 0       no_crisis\n",
              "\n",
              "[5 rows x 14 columns]"
            ]
          },
          "metadata": {
            "tags": []
          },
          "execution_count": 64
        }
      ]
    },
    {
      "cell_type": "code",
      "metadata": {
        "id": "8hhGzxnqpx-D",
        "colab_type": "code",
        "outputId": "5f7ab862-9030-432a-8079-70901b86e666",
        "colab": {
          "base_uri": "https://localhost:8080/",
          "height": 218
        }
      },
      "source": [
        "crisis_dict = {'crisis': 1, 'no_crisis': 0}\n",
        "df['banking_crisis'] = df['banking_crisis'].replace(crisis_dict)\n",
        "df.head()"
      ],
      "execution_count": 65,
      "outputs": [
        {
          "output_type": "execute_result",
          "data": {
            "text/html": [
              "<div>\n",
              "<style scoped>\n",
              "    .dataframe tbody tr th:only-of-type {\n",
              "        vertical-align: middle;\n",
              "    }\n",
              "\n",
              "    .dataframe tbody tr th {\n",
              "        vertical-align: top;\n",
              "    }\n",
              "\n",
              "    .dataframe thead th {\n",
              "        text-align: right;\n",
              "    }\n",
              "</style>\n",
              "<table border=\"1\" class=\"dataframe\">\n",
              "  <thead>\n",
              "    <tr style=\"text-align: right;\">\n",
              "      <th></th>\n",
              "      <th>case</th>\n",
              "      <th>cc3</th>\n",
              "      <th>country</th>\n",
              "      <th>year</th>\n",
              "      <th>systemic_crisis</th>\n",
              "      <th>exch_usd</th>\n",
              "      <th>domestic_debt_in_default</th>\n",
              "      <th>sovereign_external_debt_default</th>\n",
              "      <th>gdp_weighted_default</th>\n",
              "      <th>inflation_annual_cpi</th>\n",
              "      <th>independence</th>\n",
              "      <th>currency_crises</th>\n",
              "      <th>inflation_crises</th>\n",
              "      <th>banking_crisis</th>\n",
              "    </tr>\n",
              "  </thead>\n",
              "  <tbody>\n",
              "    <tr>\n",
              "      <th>0</th>\n",
              "      <td>1</td>\n",
              "      <td>DZA</td>\n",
              "      <td>Algeria</td>\n",
              "      <td>1870</td>\n",
              "      <td>1</td>\n",
              "      <td>0.052264</td>\n",
              "      <td>0</td>\n",
              "      <td>0</td>\n",
              "      <td>0.0</td>\n",
              "      <td>3.441456</td>\n",
              "      <td>0</td>\n",
              "      <td>0</td>\n",
              "      <td>0</td>\n",
              "      <td>1</td>\n",
              "    </tr>\n",
              "    <tr>\n",
              "      <th>1</th>\n",
              "      <td>1</td>\n",
              "      <td>DZA</td>\n",
              "      <td>Algeria</td>\n",
              "      <td>1871</td>\n",
              "      <td>0</td>\n",
              "      <td>0.052798</td>\n",
              "      <td>0</td>\n",
              "      <td>0</td>\n",
              "      <td>0.0</td>\n",
              "      <td>14.149140</td>\n",
              "      <td>0</td>\n",
              "      <td>0</td>\n",
              "      <td>0</td>\n",
              "      <td>0</td>\n",
              "    </tr>\n",
              "    <tr>\n",
              "      <th>2</th>\n",
              "      <td>1</td>\n",
              "      <td>DZA</td>\n",
              "      <td>Algeria</td>\n",
              "      <td>1872</td>\n",
              "      <td>0</td>\n",
              "      <td>0.052274</td>\n",
              "      <td>0</td>\n",
              "      <td>0</td>\n",
              "      <td>0.0</td>\n",
              "      <td>-3.718593</td>\n",
              "      <td>0</td>\n",
              "      <td>0</td>\n",
              "      <td>0</td>\n",
              "      <td>0</td>\n",
              "    </tr>\n",
              "    <tr>\n",
              "      <th>3</th>\n",
              "      <td>1</td>\n",
              "      <td>DZA</td>\n",
              "      <td>Algeria</td>\n",
              "      <td>1873</td>\n",
              "      <td>0</td>\n",
              "      <td>0.051680</td>\n",
              "      <td>0</td>\n",
              "      <td>0</td>\n",
              "      <td>0.0</td>\n",
              "      <td>11.203897</td>\n",
              "      <td>0</td>\n",
              "      <td>0</td>\n",
              "      <td>0</td>\n",
              "      <td>0</td>\n",
              "    </tr>\n",
              "    <tr>\n",
              "      <th>4</th>\n",
              "      <td>1</td>\n",
              "      <td>DZA</td>\n",
              "      <td>Algeria</td>\n",
              "      <td>1874</td>\n",
              "      <td>0</td>\n",
              "      <td>0.051308</td>\n",
              "      <td>0</td>\n",
              "      <td>0</td>\n",
              "      <td>0.0</td>\n",
              "      <td>-3.848561</td>\n",
              "      <td>0</td>\n",
              "      <td>0</td>\n",
              "      <td>0</td>\n",
              "      <td>0</td>\n",
              "    </tr>\n",
              "  </tbody>\n",
              "</table>\n",
              "</div>"
            ],
            "text/plain": [
              "   case  cc3  country  ...  currency_crises  inflation_crises  banking_crisis\n",
              "0     1  DZA  Algeria  ...                0                 0               1\n",
              "1     1  DZA  Algeria  ...                0                 0               0\n",
              "2     1  DZA  Algeria  ...                0                 0               0\n",
              "3     1  DZA  Algeria  ...                0                 0               0\n",
              "4     1  DZA  Algeria  ...                0                 0               0\n",
              "\n",
              "[5 rows x 14 columns]"
            ]
          },
          "metadata": {
            "tags": []
          },
          "execution_count": 65
        }
      ]
    },
    {
      "cell_type": "code",
      "metadata": {
        "id": "-UZKqnXQHN1n",
        "colab_type": "code",
        "colab": {}
      },
      "source": [
        "df.drop(columns=['cc3', 'country'], inplace=True)"
      ],
      "execution_count": 0,
      "outputs": []
    },
    {
      "cell_type": "code",
      "metadata": {
        "id": "xYP8dNqWpyFI",
        "colab_type": "code",
        "colab": {}
      },
      "source": [
        "from sklearn import preprocessing\n",
        "\n",
        "temp = df['banking_crisis']\n",
        "df = pd.DataFrame(preprocessing.scale(df), columns=df.columns)\n",
        "df['banking_crisis'] = temp"
      ],
      "execution_count": 0,
      "outputs": []
    },
    {
      "cell_type": "code",
      "metadata": {
        "id": "1v46rhJQpyKh",
        "colab_type": "code",
        "colab": {}
      },
      "source": [
        "X = df.drop(columns=['banking_crisis'])\n",
        "y = df['banking_crisis']"
      ],
      "execution_count": 0,
      "outputs": []
    },
    {
      "cell_type": "code",
      "metadata": {
        "id": "qhTEWdDHIRXl",
        "colab_type": "code",
        "colab": {}
      },
      "source": [
        "from sklearn.model_selection import train_test_split\n",
        "\n",
        "train_x, test_x, train_y, test_y = train_test_split(X,y, test_size = 0.2,shuffle=True)"
      ],
      "execution_count": 0,
      "outputs": []
    },
    {
      "cell_type": "code",
      "metadata": {
        "id": "1qKbM-vVJLnB",
        "colab_type": "code",
        "colab": {}
      },
      "source": [
        "inp_shape = train_x.loc[0].shape[0]\n",
        "\n",
        "model = Sequential()\n",
        "model.add(Dense(64, input_dim=inp_shape, activation='relu'))\n",
        "model.add(Dense(32, activation='relu'))\n",
        "model.add(Dense(16, activation='relu'))\n",
        "model.add(Dense(1, activation='sigmoid'))\n"
      ],
      "execution_count": 0,
      "outputs": []
    },
    {
      "cell_type": "code",
      "metadata": {
        "id": "i6aakGvBLvz5",
        "colab_type": "code",
        "colab": {
          "base_uri": "https://localhost:8080/",
          "height": 308
        },
        "outputId": "78b31391-93d1-4f70-8c3d-f9d436ec068c"
      },
      "source": [
        "model.compile(loss='binary_crossentropy', metrics=['accuracy'])\n",
        "model.summary()"
      ],
      "execution_count": 82,
      "outputs": [
        {
          "output_type": "stream",
          "text": [
            "Model: \"sequential_2\"\n",
            "_________________________________________________________________\n",
            "Layer (type)                 Output Shape              Param #   \n",
            "=================================================================\n",
            "dense_4 (Dense)              (None, 64)                768       \n",
            "_________________________________________________________________\n",
            "dense_5 (Dense)              (None, 32)                2080      \n",
            "_________________________________________________________________\n",
            "dense_6 (Dense)              (None, 16)                528       \n",
            "_________________________________________________________________\n",
            "dense_7 (Dense)              (None, 1)                 17        \n",
            "=================================================================\n",
            "Total params: 3,393\n",
            "Trainable params: 3,393\n",
            "Non-trainable params: 0\n",
            "_________________________________________________________________\n"
          ],
          "name": "stdout"
        }
      ]
    },
    {
      "cell_type": "code",
      "metadata": {
        "id": "VlAOPvcgJeeh",
        "colab_type": "code",
        "colab": {
          "base_uri": "https://localhost:8080/",
          "height": 599
        },
        "outputId": "e479d691-4571-4ba0-e22c-2de544736ab9"
      },
      "source": [
        "history = model.fit(train_x, \n",
        "          train_y,\n",
        "          validation_split=0.2,\n",
        "          batch_size=64,\n",
        "          epochs=16,\n",
        "          verbose=2)"
      ],
      "execution_count": 88,
      "outputs": [
        {
          "output_type": "stream",
          "text": [
            "Epoch 1/16\n",
            "11/11 - 0s - loss: 0.0630 - accuracy: 0.9838 - val_loss: 0.1385 - val_accuracy: 0.9647\n",
            "Epoch 2/16\n",
            "11/11 - 0s - loss: 0.0621 - accuracy: 0.9838 - val_loss: 0.1425 - val_accuracy: 0.9647\n",
            "Epoch 3/16\n",
            "11/11 - 0s - loss: 0.0609 - accuracy: 0.9838 - val_loss: 0.1434 - val_accuracy: 0.9647\n",
            "Epoch 4/16\n",
            "11/11 - 0s - loss: 0.0602 - accuracy: 0.9838 - val_loss: 0.1449 - val_accuracy: 0.9647\n",
            "Epoch 5/16\n",
            "11/11 - 0s - loss: 0.0594 - accuracy: 0.9838 - val_loss: 0.1480 - val_accuracy: 0.9647\n",
            "Epoch 6/16\n",
            "11/11 - 0s - loss: 0.0581 - accuracy: 0.9838 - val_loss: 0.1470 - val_accuracy: 0.9647\n",
            "Epoch 7/16\n",
            "11/11 - 0s - loss: 0.0580 - accuracy: 0.9838 - val_loss: 0.1474 - val_accuracy: 0.9647\n",
            "Epoch 8/16\n",
            "11/11 - 0s - loss: 0.0568 - accuracy: 0.9838 - val_loss: 0.1514 - val_accuracy: 0.9647\n",
            "Epoch 9/16\n",
            "11/11 - 0s - loss: 0.0558 - accuracy: 0.9838 - val_loss: 0.1509 - val_accuracy: 0.9647\n",
            "Epoch 10/16\n",
            "11/11 - 0s - loss: 0.0555 - accuracy: 0.9838 - val_loss: 0.1553 - val_accuracy: 0.9647\n",
            "Epoch 11/16\n",
            "11/11 - 0s - loss: 0.0543 - accuracy: 0.9838 - val_loss: 0.1555 - val_accuracy: 0.9647\n",
            "Epoch 12/16\n",
            "11/11 - 0s - loss: 0.0540 - accuracy: 0.9838 - val_loss: 0.1568 - val_accuracy: 0.9647\n",
            "Epoch 13/16\n",
            "11/11 - 0s - loss: 0.0528 - accuracy: 0.9838 - val_loss: 0.1583 - val_accuracy: 0.9647\n",
            "Epoch 14/16\n",
            "11/11 - 0s - loss: 0.0516 - accuracy: 0.9838 - val_loss: 0.1650 - val_accuracy: 0.9647\n",
            "Epoch 15/16\n",
            "11/11 - 0s - loss: 0.0524 - accuracy: 0.9838 - val_loss: 0.1647 - val_accuracy: 0.9647\n",
            "Epoch 16/16\n",
            "11/11 - 0s - loss: 0.0510 - accuracy: 0.9838 - val_loss: 0.1679 - val_accuracy: 0.9647\n"
          ],
          "name": "stdout"
        }
      ]
    },
    {
      "cell_type": "code",
      "metadata": {
        "id": "7u0g0-a-MgNO",
        "colab_type": "code",
        "colab": {
          "base_uri": "https://localhost:8080/",
          "height": 54
        },
        "outputId": "0e56b969-0196-42d0-d952-1987c238b771"
      },
      "source": [
        "score = model.evaluate(test_x, test_y);\n",
        "print(score[1]*100, '%')"
      ],
      "execution_count": 89,
      "outputs": [
        {
          "output_type": "stream",
          "text": [
            "7/7 [==============================] - 0s 2ms/step - loss: 0.0475 - accuracy: 0.9811\n",
            "98.11320900917053 %\n"
          ],
          "name": "stdout"
        }
      ]
    },
    {
      "cell_type": "code",
      "metadata": {
        "id": "j0XVak0jOBCT",
        "colab_type": "code",
        "colab": {
          "base_uri": "https://localhost:8080/",
          "height": 35
        },
        "outputId": "49c85210-f7d8-4514-b5fa-03caecff08aa"
      },
      "source": [
        "history.history.keys()"
      ],
      "execution_count": 95,
      "outputs": [
        {
          "output_type": "execute_result",
          "data": {
            "text/plain": [
              "dict_keys(['loss', 'accuracy', 'val_loss', 'val_accuracy'])"
            ]
          },
          "metadata": {
            "tags": []
          },
          "execution_count": 95
        }
      ]
    },
    {
      "cell_type": "code",
      "metadata": {
        "id": "3FNaxAmENZUQ",
        "colab_type": "code",
        "colab": {}
      },
      "source": [
        "import matplotlib.pyplot as plt"
      ],
      "execution_count": 0,
      "outputs": []
    },
    {
      "cell_type": "code",
      "metadata": {
        "id": "1asOuHGpOR-L",
        "colab_type": "code",
        "colab": {
          "base_uri": "https://localhost:8080/",
          "height": 265
        },
        "outputId": "00dc2515-0bdb-47ed-be0c-b52e65736343"
      },
      "source": [
        "plt.plot(history.history['loss'])\n",
        "plt.plot(history.history['val_loss'])\n",
        "plt.legend(['loss', 'val_loss'], loc='upper right')\n",
        "plt.show()"
      ],
      "execution_count": 102,
      "outputs": [
        {
          "output_type": "display_data",
          "data": {
            "image/png": "[encoded data removed]",
            "text/plain": [
              "<Figure size 432x288 with 1 Axes>"
            ]
          },
          "metadata": {
            "tags": [],
            "needs_background": "light"
          }
        }
      ]
    },
    {
      "cell_type": "code",
      "metadata": {
        "id": "CkdKWd81NihS",
        "colab_type": "code",
        "colab": {}
      },
      "source": [
        ""
      ],
      "execution_count": 0,
      "outputs": []
    }
  ]
}